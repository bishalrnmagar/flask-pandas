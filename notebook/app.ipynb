{
 "cells": [
  {
   "cell_type": "code",
   "execution_count": 2,
   "id": "b18c6eae-a410-4ed4-99bf-51a0adaf78ab",
   "metadata": {},
   "outputs": [],
   "source": [
    "import os\n",
    "import pandas as pd"
   ]
  },
  {
   "cell_type": "code",
   "execution_count": 3,
   "id": "52c883d2-7e2e-4d83-92c9-d7702e7810f1",
   "metadata": {},
   "outputs": [],
   "source": [
    "global df_dict"
   ]
  },
  {
   "cell_type": "code",
   "execution_count": 4,
   "id": "9594de96-7821-4cf3-8e75-0e21cef06b76",
   "metadata": {},
   "outputs": [],
   "source": [
    "df_dict = {}\n",
    "\n",
    "for dirname, _, filenames in os.walk('../data/'):\n",
    "    for filename in filenames:\n",
    "        path = os.path.join(dirname, filename)\n",
    "        df = pd.read_excel(path)\n",
    "        df_dict[filename.split('.')[0]] = df"
   ]
  },
  {
   "cell_type": "code",
   "execution_count": 5,
   "id": "85cad6df-e35d-4e82-81f2-c608960c337a",
   "metadata": {},
   "outputs": [
    {
     "name": "stdout",
     "output_type": "stream",
     "text": [
      "MOCK_DATA Index(['id', 'first_name', 'last_name', 'email', 'gender', 'ip_address'], dtype='object')\n",
      "MOCK_DATA_2 Index(['id', 'first_name', 'last_name', 'email', 'gender', 'ip_address'], dtype='object')\n"
     ]
    }
   ],
   "source": [
    "for keys in df_dict.keys():\n",
    "    print(keys, df_dict[keys].columns)"
   ]
  },
  {
   "cell_type": "code",
   "execution_count": 6,
   "id": "51f08557-5b80-4612-9671-837f282f7bd0",
   "metadata": {},
   "outputs": [],
   "source": [
    "join_keys = ['id']\n",
    "merged_df = pd.merge(df_dict['MOCK_DATA'], df_dict['MOCK_DATA_2'], on=join_keys, how='outer')"
   ]
  },
  {
   "cell_type": "code",
   "execution_count": 7,
   "id": "ed8ede97-86f5-4f55-ac05-11f898486474",
   "metadata": {},
   "outputs": [
    {
     "name": "stdout",
     "output_type": "stream",
     "text": [
      "     id\n",
      "0     1\n",
      "1     2\n",
      "2     3\n",
      "3     4\n",
      "4     5\n",
      "..  ...\n",
      "95   96\n",
      "96   97\n",
      "97   98\n",
      "98   99\n",
      "99  100\n",
      "\n",
      "[100 rows x 1 columns]\n"
     ]
    }
   ],
   "source": [
    "print(merged_df[['id']])"
   ]
  },
  {
   "cell_type": "code",
   "execution_count": null,
   "id": "fbdd0957-45c5-46da-84b9-576d4fe656da",
   "metadata": {},
   "outputs": [],
   "source": []
  }
 ],
 "metadata": {
  "kernelspec": {
   "display_name": "Python 3 (ipykernel)",
   "language": "python",
   "name": "python3"
  },
  "language_info": {
   "codemirror_mode": {
    "name": "ipython",
    "version": 3
   },
   "file_extension": ".py",
   "mimetype": "text/x-python",
   "name": "python",
   "nbconvert_exporter": "python",
   "pygments_lexer": "ipython3",
   "version": "3.13.2"
  }
 },
 "nbformat": 4,
 "nbformat_minor": 5
}
