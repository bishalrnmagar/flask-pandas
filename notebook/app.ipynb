{
 "cells": [
  {
   "cell_type": "code",
   "execution_count": 20,
   "id": "b18c6eae-a410-4ed4-99bf-51a0adaf78ab",
   "metadata": {},
   "outputs": [],
   "source": [
    "import os\n",
    "import pandas as pd"
   ]
  },
  {
   "cell_type": "code",
   "execution_count": 21,
   "id": "52c883d2-7e2e-4d83-92c9-d7702e7810f1",
   "metadata": {},
   "outputs": [],
   "source": [
    "global df_dict"
   ]
  },
  {
   "cell_type": "code",
   "execution_count": 31,
   "id": "9594de96-7821-4cf3-8e75-0e21cef06b76",
   "metadata": {},
   "outputs": [],
   "source": [
    "df_dict = {}\n",
    "\n",
    "for dirname, _, filenames in os.walk('../data/'):\n",
    "    for filename in filenames:\n",
    "        path = os.path.join(dirname, filename)\n",
    "        df = pd.read_excel(path)\n",
    "        df_dict[filename.split('.')[0]] = df"
   ]
  },
  {
   "cell_type": "code",
   "execution_count": 34,
   "id": "85cad6df-e35d-4e82-81f2-c608960c337a",
   "metadata": {},
   "outputs": [
    {
     "name": "stdout",
     "output_type": "stream",
     "text": [
      "MOCK_DATA Index(['id', 'first_name', 'last_name', 'email', 'gender', 'ip_address'], dtype='object')\n",
      "MOCK_DATA_2 Index(['id', 'first_name', 'last_name', 'email', 'gender', 'ip_address'], dtype='object')\n"
     ]
    }
   ],
   "source": [
    "for keys in df_dict.keys():\n",
    "    print(keys, df_dict[keys].columns)"
   ]
  },
  {
   "cell_type": "code",
   "execution_count": 36,
   "id": "51f08557-5b80-4612-9671-837f282f7bd0",
   "metadata": {},
   "outputs": [],
   "source": [
    "join_keys = ['id']\n",
    "merged_df = pd.merge(df_dict['MOCK_DATA'], df_dict['MOCK_DATA_2'], on=join_keys, how='outer')"
   ]
  },
  {
   "cell_type": "code",
   "execution_count": 37,
   "id": "ed8ede97-86f5-4f55-ac05-11f898486474",
   "metadata": {},
   "outputs": [
    {
     "name": "stdout",
     "output_type": "stream",
     "text": [
      "     id first_name_x last_name_x                       email_x     gender_x  \\\n",
      "0     1         Kenn      Edeson            kedeson0@prlog.org         Male   \n",
      "1     2       Shamus  Eilhermann     seilhermann1@columbia.edu         Male   \n",
      "2     3        Mandi      Pfaffe            mpfaffe2@alexa.com       Female   \n",
      "3     4       Emmott   Wiltshear           ewiltshear3@npr.org         Male   \n",
      "4     5       Ronald   Rosenthal     rrosenthal4@wikipedia.org         Male   \n",
      "..  ...          ...         ...                           ...          ...   \n",
      "95   96       Warner        Rusk            wrusk2n@drupal.org         Male   \n",
      "96   97       Kelsey   Eccleston    keccleston2o@discovery.com       Female   \n",
      "97   98       Griffy    Crasford  gcrasford2p@miitbeian.gov.cn         Male   \n",
      "98   99      Horatia     Zanolli   hzanolli2q@seattletimes.com  Genderfluid   \n",
      "99  100       Saleem     Dimelow          sdimelow2r@issuu.com         Male   \n",
      "\n",
      "       ip_address_x first_name_y last_name_y                       email_y  \\\n",
      "0    237.252.53.237         Kenn      Edeson            kedeson0@prlog.org   \n",
      "1    193.128.117.74       Shamus  Eilhermann     seilhermann1@columbia.edu   \n",
      "2     109.32.45.218        Mandi      Pfaffe            mpfaffe2@alexa.com   \n",
      "3     203.197.36.70       Emmott   Wiltshear           ewiltshear3@npr.org   \n",
      "4    102.223.52.130       Ronald   Rosenthal     rrosenthal4@wikipedia.org   \n",
      "..              ...          ...         ...                           ...   \n",
      "95     26.90.225.90       Warner        Rusk            wrusk2n@drupal.org   \n",
      "96   123.19.201.183       Kelsey   Eccleston    keccleston2o@discovery.com   \n",
      "97   99.161.213.255       Griffy    Crasford  gcrasford2p@miitbeian.gov.cn   \n",
      "98  143.235.113.205      Horatia     Zanolli   hzanolli2q@seattletimes.com   \n",
      "99     22.113.8.117       Saleem     Dimelow          sdimelow2r@issuu.com   \n",
      "\n",
      "       gender_y     ip_address_y  \n",
      "0          Male   237.252.53.237  \n",
      "1          Male   193.128.117.74  \n",
      "2        Female    109.32.45.218  \n",
      "3          Male    203.197.36.70  \n",
      "4          Male   102.223.52.130  \n",
      "..          ...              ...  \n",
      "95         Male     26.90.225.90  \n",
      "96       Female   123.19.201.183  \n",
      "97         Male   99.161.213.255  \n",
      "98  Genderfluid  143.235.113.205  \n",
      "99         Male     22.113.8.117  \n",
      "\n",
      "[100 rows x 11 columns]\n"
     ]
    }
   ],
   "source": [
    "print(merged_df)"
   ]
  }
 ],
 "metadata": {
  "kernelspec": {
   "display_name": "Python 3 (ipykernel)",
   "language": "python",
   "name": "python3"
  },
  "language_info": {
   "codemirror_mode": {
    "name": "ipython",
    "version": 3
   },
   "file_extension": ".py",
   "mimetype": "text/x-python",
   "name": "python",
   "nbconvert_exporter": "python",
   "pygments_lexer": "ipython3",
   "version": "3.13.2"
  }
 },
 "nbformat": 4,
 "nbformat_minor": 5
}
